{
  "nbformat": 4,
  "nbformat_minor": 0,
  "metadata": {
    "colab": {
      "name": "Image Classification.ipynb",
      "provenance": [],
      "authorship_tag": "ABX9TyNwJz+hkDGbq5rT744FYhg+",
      "include_colab_link": true
    },
    "kernelspec": {
      "name": "python3",
      "display_name": "Python 3"
    }
  },
  "cells": [
    {
      "cell_type": "markdown",
      "metadata": {
        "id": "view-in-github",
        "colab_type": "text"
      },
      "source": [
        "<a href=\"https://colab.research.google.com/github/Lasya9/project/blob/main/Image_Classification.ipynb\" target=\"_parent\"><img src=\"https://colab.research.google.com/assets/colab-badge.svg\" alt=\"Open In Colab\"/></a>"
      ]
    },
    {
      "cell_type": "code",
      "metadata": {
        "colab": {
          "base_uri": "https://localhost:8080/"
        },
        "id": "JhTm-bCZ2yju",
        "outputId": "cad04a7e-9f7b-46a2-ad6d-6a01c6fa6eba"
      },
      "source": [
        "#data gathering\r\n",
        "!pip install bing-image-downloader"
      ],
      "execution_count": null,
      "outputs": [
        {
          "output_type": "stream",
          "text": [
            "Collecting bing-image-downloader\n",
            "  Downloading https://files.pythonhosted.org/packages/0d/bf/537a61030b84ae4cd5022d5c7b014fd9bc3ce7c02358919153a6658a61d3/bing_image_downloader-1.0.4-py3-none-any.whl\n",
            "Installing collected packages: bing-image-downloader\n",
            "Successfully installed bing-image-downloader-1.0.4\n"
          ],
          "name": "stdout"
        }
      ]
    },
    {
      "cell_type": "code",
      "metadata": {
        "id": "s3wCd0v842p9"
      },
      "source": [
        "!mkdir images"
      ],
      "execution_count": null,
      "outputs": []
    },
    {
      "cell_type": "code",
      "metadata": {
        "id": "UIRY2dmd4_Mz",
        "colab": {
          "base_uri": "https://localhost:8080/"
        },
        "outputId": "db19335a-90f6-4a7b-a56a-2b4f83b9492f"
      },
      "source": [
        "from bing_image_downloader import downloader\r\n",
        "downloader.download(\"orange fruit\",limit=30,output_dir='images',\r\n",
        "                    adult_filter_off=True)"
      ],
      "execution_count": null,
      "outputs": [
        {
          "output_type": "stream",
          "text": [
            "\n",
            "\n",
            "[!!]Indexing page: 1\n",
            "\n",
            "[%] Indexed 12 Images on Page 1.\n",
            "\n",
            "===============================================\n",
            "\n",
            "[%] Downloading Image #1 from https://wallpapershome.com/images/wallpapers/kiwi-1920x1080-orange-fruit-5k-15353.jpg\n",
            "[%] File Downloaded !\n",
            "\n",
            "[%] Downloading Image #2 from https://rampages.us/fbrx14/wp-content/uploads/sites/85/2014/05/IMG_20140520_105903497.jpg\n",
            "[%] File Downloaded !\n",
            "\n",
            "[%] Downloading Image #3 from https://www.philosopherseeds.com/images/o2/lemon-og-candy_174_6_.jpg\n",
            "[%] File Downloaded !\n",
            "\n",
            "[%] Downloading Image #4 from https://games-cdn.softpedia.com/screenshots/Fruit-Ninja-for-Windows-8_2.jpg\n",
            "[%] File Downloaded !\n",
            "\n",
            "[%] Downloading Image #5 from http://professorcocktail.com/wp-content/uploads/2014/03/Hurricane.jpg\n",
            "[%] File Downloaded !\n",
            "\n",
            "[%] Downloading Image #6 from http://www.cuisineetsentiments.com/images/buche-de-noel_6.jpg\n",
            "[%] File Downloaded !\n",
            "\n",
            "[%] Downloading Image #7 from http://dendro.cnre.vt.edu/dendrology/images/Quercus%20muehlenbergii/flower1.jpg\n",
            "[%] File Downloaded !\n",
            "\n",
            "[%] Downloading Image #8 from http://courses.missouristate.edu/pbtrewatha/Paperbark_Maple7.jpg\n",
            "[%] File Downloaded !\n",
            "\n",
            "[%] Downloading Image #9 from https://i.weddingomania.com/2016/06/19-fabric-covered-arch-with-bold-leaves.jpg\n",
            "[%] File Downloaded !\n",
            "\n",
            "[%] Downloading Image #10 from http://www.urdesignmag.com/wordpress/wp-content/uploads/2015/10/genetically-modified-fruits-by-enrico-becker-matt-harris-3.jpg\n",
            "[%] File Downloaded !\n",
            "\n",
            "[%] Downloading Image #11 from https://ideas.evite.com/media/drinks-halloween-orange-soda-potion-bottles-ahp-1200.jpg\n",
            "[%] File Downloaded !\n",
            "\n",
            "[%] Downloading Image #12 from http://media02.hongkiat.com/food-photo-manipulations/CupVolcano.jpg\n",
            "[%] File Downloaded !\n",
            "\n",
            "\n",
            "\n",
            "[!!]Indexing page: 2\n",
            "\n",
            "[%] Indexed 12 Images on Page 2.\n",
            "\n",
            "===============================================\n",
            "\n",
            "[%] Downloading Image #13 from https://wallpapershome.com/images/wallpapers/kiwi-1920x1080-orange-fruit-5k-15353.jpg\n",
            "[%] File Downloaded !\n",
            "\n",
            "[%] Downloading Image #14 from https://rampages.us/fbrx14/wp-content/uploads/sites/85/2014/05/IMG_20140520_105903497.jpg\n",
            "[%] File Downloaded !\n",
            "\n",
            "[%] Downloading Image #15 from https://www.philosopherseeds.com/images/o2/lemon-og-candy_174_6_.jpg\n",
            "[%] File Downloaded !\n",
            "\n",
            "[%] Downloading Image #16 from https://games-cdn.softpedia.com/screenshots/Fruit-Ninja-for-Windows-8_2.jpg\n",
            "[%] File Downloaded !\n",
            "\n",
            "[%] Downloading Image #17 from http://professorcocktail.com/wp-content/uploads/2014/03/Hurricane.jpg\n",
            "[%] File Downloaded !\n",
            "\n",
            "[%] Downloading Image #18 from http://www.cuisineetsentiments.com/images/buche-de-noel_6.jpg\n",
            "[%] File Downloaded !\n",
            "\n",
            "[%] Downloading Image #19 from http://dendro.cnre.vt.edu/dendrology/images/Quercus%20muehlenbergii/flower1.jpg\n",
            "[%] File Downloaded !\n",
            "\n",
            "[%] Downloading Image #20 from http://courses.missouristate.edu/pbtrewatha/Paperbark_Maple7.jpg\n",
            "[%] File Downloaded !\n",
            "\n",
            "[%] Downloading Image #21 from https://i.weddingomania.com/2016/06/19-fabric-covered-arch-with-bold-leaves.jpg\n",
            "[%] File Downloaded !\n",
            "\n",
            "[%] Downloading Image #22 from http://www.urdesignmag.com/wordpress/wp-content/uploads/2015/10/genetically-modified-fruits-by-enrico-becker-matt-harris-3.jpg\n",
            "[%] File Downloaded !\n",
            "\n",
            "[%] Downloading Image #23 from https://ideas.evite.com/media/drinks-halloween-orange-soda-potion-bottles-ahp-1200.jpg\n",
            "[%] File Downloaded !\n",
            "\n",
            "[%] Downloading Image #24 from http://media02.hongkiat.com/food-photo-manipulations/CupVolcano.jpg\n",
            "[%] File Downloaded !\n",
            "\n",
            "\n",
            "\n",
            "[!!]Indexing page: 3\n",
            "\n",
            "[%] Indexed 11 Images on Page 3.\n",
            "\n",
            "===============================================\n",
            "\n",
            "[%] Downloading Image #25 from https://cdn.onecrazyhouse.com/wp-content/uploads/2016/10/orange-peel-hacks-feature.jpg\n",
            "[%] File Downloaded !\n",
            "\n",
            "[%] Downloading Image #26 from https://wallpapershome.com/images/wallpapers/coconut-3840x2160-8k-15339.jpg\n",
            "[%] File Downloaded !\n",
            "\n",
            "[%] Downloading Image #27 from http://media02.hongkiat.com/food-photo-manipulations/MixedFruit.jpg\n",
            "[%] File Downloaded !\n",
            "\n",
            "[%] Downloading Image #28 from http://afternoonbakingwithgrandma.com/wp-content/uploads/2016/01/2016-01-14_1122.png\n",
            "[%] File Downloaded !\n",
            "\n",
            "[%] Downloading Image #29 from https://i2.wp.com/www.yummymummykitchen.com/wp-content/uploads/2019/12/white-sangria-8.jpg\n",
            "[%] File Downloaded !\n",
            "\n",
            "[%] Downloading Image #30 from https://wallpapershome.com/images/wallpapers/grapes-7680x4320-8k-16059.jpg\n",
            "[%] File Downloaded !\n",
            "\n",
            "\n",
            "\n",
            "[%] Done. Downloaded 30 images.\n",
            "\n",
            "===============================================\n",
            "\n"
          ],
          "name": "stdout"
        }
      ]
    },
    {
      "cell_type": "code",
      "metadata": {
        "colab": {
          "base_uri": "https://localhost:8080/"
        },
        "id": "jgb4-dwG-eBr",
        "outputId": "7e27eb40-6241-4afe-9dc8-14aa4519c051"
      },
      "source": [
        "downloader.download(\"rubics cube\",limit=30,output_dir='images',\r\n",
        "                    adult_filter_off=True)"
      ],
      "execution_count": null,
      "outputs": [
        {
          "output_type": "stream",
          "text": [
            "\n",
            "\n",
            "[!!]Indexing page: 1\n",
            "\n",
            "[%] Indexed 12 Images on Page 1.\n",
            "\n",
            "===============================================\n",
            "\n",
            "[%] Downloading Image #1 from https://i.ytimg.com/vi/vlp0-_OPRwA/hqdefault.jpg\n",
            "[%] File Downloaded !\n",
            "\n",
            "[%] Downloading Image #2 from https://www.maxim.com/.image/t_share/MTM1ODc5NzA3NzM5NjE1MjAy/np011516_rubikscube_articlejpg.jpg\n",
            "[%] File Downloaded !\n",
            "\n",
            "[%] Downloading Image #3 from https://i.ytimg.com/vi/R4GCgZ67PiA/maxresdefault.jpg\n",
            "[%] File Downloaded !\n",
            "\n",
            "[%] Downloading Image #4 from http://www.hdwallpapers.in/download/rubiks_cube-1600x900.jpg\n",
            "[%] File Downloaded !\n",
            "\n",
            "[%] Downloading Image #5 from https://i.ytimg.com/vi/IO7JbBbj7Kc/maxresdefault.jpg\n",
            "[%] File Downloaded !\n",
            "\n",
            "[%] Downloading Image #6 from https://i.ytimg.com/vi/GZtDRF2Alps/maxresdefault.jpg\n",
            "[%] File Downloaded !\n",
            "\n",
            "[%] Downloading Image #7 from https://i.ytimg.com/vi/Kj8AoE6a-7k/maxresdefault.jpg\n",
            "[%] File Downloaded !\n",
            "\n",
            "[%] Downloading Image #8 from http://www.buckyballscube.com/blog/wp-content/uploads/2015/11/13359996865_dba93b75cf_b.jpg\n",
            "[Error]Invalid image, not saving http://www.buckyballscube.com/blog/wp-content/uploads/2015/11/13359996865_dba93b75cf_b.jpg\n",
            "\n",
            "[!] Issue getting: http://www.buckyballscube.com/blog/wp-content/uploads/2015/11/13359996865_dba93b75cf_b.jpg\n",
            "[!] Error:: No active exception to reraise\n",
            "[%] Downloading Image #8 from https://i.ytimg.com/vi/CAb_AJaKnNE/maxresdefault.jpg\n",
            "[%] File Downloaded !\n",
            "\n",
            "[%] Downloading Image #9 from https://www.commondreams.org/sites/default/files/views-article/hate_morons_charlottesville.jpg\n",
            "[%] File Downloaded !\n",
            "\n",
            "[%] Downloading Image #10 from http://geekologie.com/2015/02/02/medieval-darth-vader-armor-1.jpg\n",
            "[%] File Downloaded !\n",
            "\n",
            "[%] Downloading Image #11 from https://www.tattoosforyou.org/wp-content/uploads/2013/12/Puzzle-Piece-Wrist-Tattoos.jpg\n",
            "[%] File Downloaded !\n",
            "\n",
            "\n",
            "\n",
            "[!!]Indexing page: 2\n",
            "\n",
            "[%] Indexed 12 Images on Page 2.\n",
            "\n",
            "===============================================\n",
            "\n",
            "[%] Downloading Image #12 from https://i.ytimg.com/vi/vlp0-_OPRwA/hqdefault.jpg\n",
            "[%] File Downloaded !\n",
            "\n",
            "[%] Downloading Image #13 from https://www.maxim.com/.image/t_share/MTM1ODc5NzA3NzM5NjE1MjAy/np011516_rubikscube_articlejpg.jpg\n",
            "[%] File Downloaded !\n",
            "\n",
            "[%] Downloading Image #14 from https://i.ytimg.com/vi/R4GCgZ67PiA/maxresdefault.jpg\n",
            "[%] File Downloaded !\n",
            "\n",
            "[%] Downloading Image #15 from http://www.hdwallpapers.in/download/rubiks_cube-1600x900.jpg\n",
            "[%] File Downloaded !\n",
            "\n",
            "[%] Downloading Image #16 from https://i.ytimg.com/vi/IO7JbBbj7Kc/maxresdefault.jpg\n",
            "[%] File Downloaded !\n",
            "\n",
            "[%] Downloading Image #17 from https://i.ytimg.com/vi/GZtDRF2Alps/maxresdefault.jpg\n",
            "[%] File Downloaded !\n",
            "\n",
            "[%] Downloading Image #18 from https://i.ytimg.com/vi/Kj8AoE6a-7k/maxresdefault.jpg\n",
            "[%] File Downloaded !\n",
            "\n",
            "[%] Downloading Image #19 from http://www.buckyballscube.com/blog/wp-content/uploads/2015/11/13359996865_dba93b75cf_b.jpg\n",
            "[Error]Invalid image, not saving http://www.buckyballscube.com/blog/wp-content/uploads/2015/11/13359996865_dba93b75cf_b.jpg\n",
            "\n",
            "[!] Issue getting: http://www.buckyballscube.com/blog/wp-content/uploads/2015/11/13359996865_dba93b75cf_b.jpg\n",
            "[!] Error:: No active exception to reraise\n",
            "[%] Downloading Image #19 from https://i.ytimg.com/vi/CAb_AJaKnNE/maxresdefault.jpg\n",
            "[%] File Downloaded !\n",
            "\n",
            "[%] Downloading Image #20 from https://www.commondreams.org/sites/default/files/views-article/hate_morons_charlottesville.jpg\n",
            "[%] File Downloaded !\n",
            "\n",
            "[%] Downloading Image #21 from http://geekologie.com/2015/02/02/medieval-darth-vader-armor-1.jpg\n",
            "[%] File Downloaded !\n",
            "\n",
            "[%] Downloading Image #22 from https://www.tattoosforyou.org/wp-content/uploads/2013/12/Puzzle-Piece-Wrist-Tattoos.jpg\n",
            "[%] File Downloaded !\n",
            "\n",
            "\n",
            "\n",
            "[!!]Indexing page: 3\n",
            "\n",
            "[%] Indexed 11 Images on Page 3.\n",
            "\n",
            "===============================================\n",
            "\n",
            "[%] Downloading Image #23 from https://www.maxim.com/.image/t_share/MTM1ODc5NzA3NzM5NjE1MjAy/np011516_rubikscube_articlejpg.jpg\n",
            "[%] File Downloaded !\n",
            "\n",
            "[%] Downloading Image #24 from https://i.ytimg.com/vi/R4GCgZ67PiA/maxresdefault.jpg\n",
            "[%] File Downloaded !\n",
            "\n",
            "[%] Downloading Image #25 from http://www.hdwallpapers.in/download/rubiks_cube-1600x900.jpg\n",
            "[%] File Downloaded !\n",
            "\n",
            "[%] Downloading Image #26 from https://i.ytimg.com/vi/IO7JbBbj7Kc/maxresdefault.jpg\n",
            "[%] File Downloaded !\n",
            "\n",
            "[%] Downloading Image #27 from https://i.ytimg.com/vi/GZtDRF2Alps/maxresdefault.jpg\n",
            "[%] File Downloaded !\n",
            "\n",
            "[%] Downloading Image #28 from https://i.ytimg.com/vi/Kj8AoE6a-7k/maxresdefault.jpg\n",
            "[%] File Downloaded !\n",
            "\n",
            "[%] Downloading Image #29 from http://www.buckyballscube.com/blog/wp-content/uploads/2015/11/13359996865_dba93b75cf_b.jpg\n",
            "[Error]Invalid image, not saving http://www.buckyballscube.com/blog/wp-content/uploads/2015/11/13359996865_dba93b75cf_b.jpg\n",
            "\n",
            "[!] Issue getting: http://www.buckyballscube.com/blog/wp-content/uploads/2015/11/13359996865_dba93b75cf_b.jpg\n",
            "[!] Error:: No active exception to reraise\n",
            "[%] Downloading Image #29 from https://i.ytimg.com/vi/CAb_AJaKnNE/maxresdefault.jpg\n",
            "[%] File Downloaded !\n",
            "\n",
            "[%] Downloading Image #30 from https://www.commondreams.org/sites/default/files/views-article/hate_morons_charlottesville.jpg\n",
            "[%] File Downloaded !\n",
            "\n",
            "\n",
            "\n",
            "[%] Done. Downloaded 30 images.\n",
            "\n",
            "===============================================\n",
            "\n"
          ],
          "name": "stdout"
        }
      ]
    },
    {
      "cell_type": "code",
      "metadata": {
        "colab": {
          "base_uri": "https://localhost:8080/"
        },
        "id": "FFvbiZKx_bTf",
        "outputId": "6422c3df-a67e-4947-c98e-ac5a87071ea9"
      },
      "source": [
        "downloader.download(\"juice can\",limit=30,output_dir='images',\r\n",
        "                    adult_filter_off=True)"
      ],
      "execution_count": null,
      "outputs": [
        {
          "output_type": "stream",
          "text": [
            "\n",
            "\n",
            "[!!]Indexing page: 1\n",
            "\n",
            "[%] Indexed 13 Images on Page 1.\n",
            "\n",
            "===============================================\n",
            "\n",
            "[%] Downloading Image #1 from https://flashbak.com/wp-content/uploads/2015/09/1973-Wacky-Packages-Stickers-1st-Series-MUTTS-APPLE-JUICE.jpg\n",
            "[%] File Downloaded !\n",
            "\n",
            "[%] Downloading Image #2 from http://d1alt1wkdk73qo.cloudfront.net/images/guide/bd93c26a2ed14745a46a712a731f0d5f/640x960.jpg\n",
            "[!] Issue getting: http://d1alt1wkdk73qo.cloudfront.net/images/guide/bd93c26a2ed14745a46a712a731f0d5f/640x960.jpg\n",
            "[!] Error:: <urlopen error [Errno -5] No address associated with hostname>\n",
            "[%] Downloading Image #2 from http://tastesreallygood.com/wp-content/uploads/2012/12/bc078293f367124eaaf28ac33ef1e50b.jpg\n",
            "[%] File Downloaded !\n",
            "\n",
            "[%] Downloading Image #3 from https://sinfulpixie.files.wordpress.com/2014/04/beetlejuice.jpg\n",
            "[%] File Downloaded !\n",
            "\n",
            "[%] Downloading Image #4 from http://mixthatdrink.com/wp-content/uploads/2015/06/limoncello-collins.jpg\n",
            "[%] File Downloaded !\n",
            "\n",
            "[%] Downloading Image #5 from https://www.awesomeinventions.com/wp-content/uploads/2015/05/mushroom-blue.jpg\n",
            "[%] File Downloaded !\n",
            "\n",
            "[%] Downloading Image #6 from http://ideastand.com/wp-content/uploads/2015/12/1-homemade-teeth-whitener.jpg\n",
            "[%] File Downloaded !\n",
            "\n",
            "[%] Downloading Image #7 from http://www.onlyfoods.net/wp-content/uploads/2017/08/Alcohol-Blended-Hot-Breakfast-Coffee-Drinks-with-Amaretto-Liqueur-300x300.jpg\n",
            "[%] File Downloaded !\n",
            "\n",
            "[%] Downloading Image #8 from http://professorcocktail.com/wp-content/uploads/2014/04/Paloma-cocktail.jpg\n",
            "[%] File Downloaded !\n",
            "\n",
            "[%] Downloading Image #9 from https://ediblegreenmountains.ediblecommunities.com/sites/default/files/images/recipe/bourbon-fig-jam.jpg\n",
            "[%] File Downloaded !\n",
            "\n",
            "[%] Downloading Image #10 from https://girlterest.com/wp-content/uploads/2017/08/7-Strawberry-Acai-Refresher.jpg\n",
            "[%] File Downloaded !\n",
            "\n",
            "[%] Downloading Image #11 from https://www.earthlymission.com/wp-content/uploads/2015/03/Neon-Movie-Posters-in-GIF-7.gif\n",
            "[%] File Downloaded !\n",
            "\n",
            "[%] Downloading Image #12 from https://www.bing.com/th/id/OGC.5fc9656d129701f34432ce55c9eb1994?pid=1.7&amp;rurl=https%3a%2f%2fwww.earthlymission.com%2fwp-content%2fuploads%2f2015%2f03%2fNeon-Movie-Posters-in-GIF-7.gif&amp;ehk=3v2R5Uo9fGSRGv4ibmUuZSZTSw05HEUXj2FVqDsdjFE%3d\n",
            "[!] Issue getting: https://www.bing.com/th/id/OGC.5fc9656d129701f34432ce55c9eb1994?pid=1.7&amp;rurl=https%3a%2f%2fwww.earthlymission.com%2fwp-content%2fuploads%2f2015%2f03%2fNeon-Movie-Posters-in-GIF-7.gif&amp;ehk=3v2R5Uo9fGSRGv4ibmUuZSZTSw05HEUXj2FVqDsdjFE%3d\n",
            "[!] Error:: HTTP Error 404: Not Found\n",
            "\n",
            "\n",
            "[!!]Indexing page: 2\n",
            "\n",
            "[%] Indexed 13 Images on Page 2.\n",
            "\n",
            "===============================================\n",
            "\n",
            "[%] Downloading Image #12 from https://flashbak.com/wp-content/uploads/2015/09/1973-Wacky-Packages-Stickers-1st-Series-MUTTS-APPLE-JUICE.jpg\n",
            "[%] File Downloaded !\n",
            "\n",
            "[%] Downloading Image #13 from http://d1alt1wkdk73qo.cloudfront.net/images/guide/bd93c26a2ed14745a46a712a731f0d5f/640x960.jpg\n",
            "[!] Issue getting: http://d1alt1wkdk73qo.cloudfront.net/images/guide/bd93c26a2ed14745a46a712a731f0d5f/640x960.jpg\n",
            "[!] Error:: <urlopen error [Errno -5] No address associated with hostname>\n",
            "[%] Downloading Image #13 from http://tastesreallygood.com/wp-content/uploads/2012/12/bc078293f367124eaaf28ac33ef1e50b.jpg\n",
            "[%] File Downloaded !\n",
            "\n",
            "[%] Downloading Image #14 from https://sinfulpixie.files.wordpress.com/2014/04/beetlejuice.jpg\n",
            "[%] File Downloaded !\n",
            "\n",
            "[%] Downloading Image #15 from http://mixthatdrink.com/wp-content/uploads/2015/06/limoncello-collins.jpg\n",
            "[%] File Downloaded !\n",
            "\n",
            "[%] Downloading Image #16 from https://www.awesomeinventions.com/wp-content/uploads/2015/05/mushroom-blue.jpg\n",
            "[%] File Downloaded !\n",
            "\n",
            "[%] Downloading Image #17 from http://ideastand.com/wp-content/uploads/2015/12/1-homemade-teeth-whitener.jpg\n",
            "[%] File Downloaded !\n",
            "\n",
            "[%] Downloading Image #18 from http://www.onlyfoods.net/wp-content/uploads/2017/08/Alcohol-Blended-Hot-Breakfast-Coffee-Drinks-with-Amaretto-Liqueur-300x300.jpg\n",
            "[%] File Downloaded !\n",
            "\n",
            "[%] Downloading Image #19 from http://professorcocktail.com/wp-content/uploads/2014/04/Paloma-cocktail.jpg\n",
            "[%] File Downloaded !\n",
            "\n",
            "[%] Downloading Image #20 from https://ediblegreenmountains.ediblecommunities.com/sites/default/files/images/recipe/bourbon-fig-jam.jpg\n",
            "[%] File Downloaded !\n",
            "\n",
            "[%] Downloading Image #21 from https://girlterest.com/wp-content/uploads/2017/08/7-Strawberry-Acai-Refresher.jpg\n",
            "[%] File Downloaded !\n",
            "\n",
            "[%] Downloading Image #22 from https://www.earthlymission.com/wp-content/uploads/2015/03/Neon-Movie-Posters-in-GIF-7.gif\n",
            "[%] File Downloaded !\n",
            "\n",
            "[%] Downloading Image #23 from https://www.bing.com/th/id/OGC.5fc9656d129701f34432ce55c9eb1994?pid=1.7&amp;rurl=https%3a%2f%2fwww.earthlymission.com%2fwp-content%2fuploads%2f2015%2f03%2fNeon-Movie-Posters-in-GIF-7.gif&amp;ehk=3v2R5Uo9fGSRGv4ibmUuZSZTSw05HEUXj2FVqDsdjFE%3d\n",
            "[!] Issue getting: https://www.bing.com/th/id/OGC.5fc9656d129701f34432ce55c9eb1994?pid=1.7&amp;rurl=https%3a%2f%2fwww.earthlymission.com%2fwp-content%2fuploads%2f2015%2f03%2fNeon-Movie-Posters-in-GIF-7.gif&amp;ehk=3v2R5Uo9fGSRGv4ibmUuZSZTSw05HEUXj2FVqDsdjFE%3d\n",
            "[!] Error:: HTTP Error 404: Not Found\n",
            "\n",
            "\n",
            "[!!]Indexing page: 3\n",
            "\n",
            "[%] Indexed 12 Images on Page 3.\n",
            "\n",
            "===============================================\n",
            "\n",
            "[%] Downloading Image #23 from https://sinfulpixie.files.wordpress.com/2014/04/beetlejuice.jpg\n",
            "[%] File Downloaded !\n",
            "\n",
            "[%] Downloading Image #24 from http://d1alt1wkdk73qo.cloudfront.net/images/guide/bd93c26a2ed14745a46a712a731f0d5f/640x960.jpg\n",
            "[!] Issue getting: http://d1alt1wkdk73qo.cloudfront.net/images/guide/bd93c26a2ed14745a46a712a731f0d5f/640x960.jpg\n",
            "[!] Error:: <urlopen error [Errno -5] No address associated with hostname>\n",
            "[%] Downloading Image #24 from https://www.awesomeinventions.com/wp-content/uploads/2015/05/mushroom-blue.jpg\n",
            "[%] File Downloaded !\n",
            "\n",
            "[%] Downloading Image #25 from http://ideastand.com/wp-content/uploads/2015/12/1-homemade-teeth-whitener.jpg\n",
            "[%] File Downloaded !\n",
            "\n",
            "[%] Downloading Image #26 from http://www.onlyfoods.net/wp-content/uploads/2017/08/Alcohol-Blended-Hot-Breakfast-Coffee-Drinks-with-Amaretto-Liqueur-300x300.jpg\n",
            "[%] File Downloaded !\n",
            "\n",
            "[%] Downloading Image #27 from http://mixthatdrink.com/wp-content/uploads/2015/06/limoncello-collins.jpg\n",
            "[%] File Downloaded !\n",
            "\n",
            "[%] Downloading Image #28 from http://tastesreallygood.com/wp-content/uploads/2012/12/bc078293f367124eaaf28ac33ef1e50b.jpg\n",
            "[%] File Downloaded !\n",
            "\n",
            "[%] Downloading Image #29 from https://girlterest.com/wp-content/uploads/2017/08/7-Strawberry-Acai-Refresher.jpg\n",
            "[%] File Downloaded !\n",
            "\n",
            "[%] Downloading Image #30 from https://ediblegreenmountains.ediblecommunities.com/sites/default/files/images/recipe/bourbon-fig-jam.jpg\n",
            "[%] File Downloaded !\n",
            "\n",
            "\n",
            "\n",
            "[%] Done. Downloaded 30 images.\n",
            "\n",
            "===============================================\n",
            "\n"
          ],
          "name": "stdout"
        }
      ]
    },
    {
      "cell_type": "code",
      "metadata": {
        "id": "nxgyjgbb_-R4"
      },
      "source": [
        "#Preprocessing\r\n",
        "import os\r\n",
        "import numpy as np\r\n",
        "import matplotlib.pyplot as plt\r\n",
        "from skimage.io import imread\r\n",
        "from skimage.transform import resize\r\n",
        "\r\n",
        "target=[]\r\n",
        "images=[]\r\n",
        "flat_data=[]\r\n",
        "\r\n",
        "DATADIR='/content/images'\r\n",
        "CATEGORIES=['juice can','orange fruit','rubics cube']\r\n",
        "\r\n",
        "for category in CATEGORIES:\r\n",
        "  class_num = CATEGORIES.index(category)\r\n",
        "  path=os.path.join(DATADIR,category)\r\n",
        "  for img in os.listdir(path):\r\n",
        "    img_array = imread(os.path.join(path,img))\r\n",
        "    img_resized = resize(img_array,(150,150,3))\r\n",
        "    flat_data.append(img_resized.flatten())\r\n",
        "    images.append(img_resized)\r\n",
        "    target.append(class_num)\r\n",
        "\r\n",
        "flat_data = np.array(flat_data)\r\n",
        "target = np.array(target)\r\n",
        "images = np.array(images)    "
      ],
      "execution_count": null,
      "outputs": []
    },
    {
      "cell_type": "code",
      "metadata": {
        "colab": {
          "base_uri": "https://localhost:8080/"
        },
        "id": "WAmG5y6zEGaV",
        "outputId": "97989245-a377-45a7-b111-ab93fefb111e"
      },
      "source": [
        "flat_data[0]"
      ],
      "execution_count": null,
      "outputs": [
        {
          "output_type": "execute_result",
          "data": {
            "text/plain": [
              "array([0.52352941, 0.51764706, 0.51862745, ..., 0.64901961, 0.57941176,\n",
              "       0.59019608])"
            ]
          },
          "metadata": {
            "tags": []
          },
          "execution_count": 8
        }
      ]
    },
    {
      "cell_type": "code",
      "metadata": {
        "colab": {
          "base_uri": "https://localhost:8080/"
        },
        "id": "MYjk9ff0HSkn",
        "outputId": "77f27b76-e9fe-4cf0-ed26-22724f305772"
      },
      "source": [
        "target"
      ],
      "execution_count": null,
      "outputs": [
        {
          "output_type": "execute_result",
          "data": {
            "text/plain": [
              "array([0, 0, 0, 0, 0, 0, 0, 0, 0, 0, 0, 0, 0, 0, 0, 0, 0, 0, 0, 0, 0, 0,\n",
              "       0, 0, 0, 0, 0, 0, 0, 0, 1, 1, 1, 1, 1, 1, 1, 1, 1, 1, 1, 1, 1, 1,\n",
              "       1, 1, 1, 1, 1, 1, 1, 1, 1, 1, 1, 1, 1, 1, 1, 1, 2, 2, 2, 2, 2, 2,\n",
              "       2, 2, 2, 2, 2, 2, 2, 2, 2, 2, 2, 2, 2, 2, 2, 2, 2, 2, 2, 2, 2, 2,\n",
              "       2, 2])"
            ]
          },
          "metadata": {
            "tags": []
          },
          "execution_count": 9
        }
      ]
    },
    {
      "cell_type": "code",
      "metadata": {
        "colab": {
          "base_uri": "https://localhost:8080/",
          "height": 283
        },
        "id": "_7qQfkWqHadG",
        "outputId": "1e5802bb-678f-4645-ec43-d82c0cc7dd8c"
      },
      "source": [
        "unique,count = np.unique(target,return_counts=True)\r\n",
        "plt.bar(CATEGORIES,count)"
      ],
      "execution_count": null,
      "outputs": [
        {
          "output_type": "execute_result",
          "data": {
            "text/plain": [
              "<BarContainer object of 3 artists>"
            ]
          },
          "metadata": {
            "tags": []
          },
          "execution_count": 10
        },
        {
          "output_type": "display_data",
          "data": {
            "image/png": "[encoded data removed]",
            "text/plain": [
              "<Figure size 432x288 with 1 Axes>"
            ]
          },
          "metadata": {
            "tags": [],
            "needs_background": "light"
          }
        }
      ]
    },
    {
      "cell_type": "code",
      "metadata": {
        "id": "2WEFofNNH5_p"
      },
      "source": [
        "#Split data into Training and Testing\r\n",
        "from sklearn.model_selection import train_test_split\r\n",
        "x_train, x_test, y_train, y_test = train_test_split(flat_data,target,\r\n",
        "                                                test_size=0.3,random_state=109)"
      ],
      "execution_count": null,
      "outputs": []
    },
    {
      "cell_type": "code",
      "metadata": {
        "colab": {
          "base_uri": "https://localhost:8080/"
        },
        "id": "gFEaFCKd1p4A",
        "outputId": "4a131995-df9f-49db-d593-34f465a90d6e"
      },
      "source": [
        "from sklearn.model_selection import GridSearchCV\r\n",
        "from sklearn import svm\r\n",
        "param_grid = [\r\n",
        "              {'C':[1,10,100,1000],'kernel':['linear']},\r\n",
        "               { 'C':[1,10,100,1000],'gamma':[0.001,0.0001],'kernel':['rbf']}  \r\n",
        "              ]\r\n",
        "svc=svm.SVC(probability=True)\r\n",
        "clf=GridSearchCV(svc,param_grid)\r\n",
        "clf.fit(x_train,y_train)              \r\n"
      ],
      "execution_count": null,
      "outputs": [
        {
          "output_type": "execute_result",
          "data": {
            "text/plain": [
              "GridSearchCV(cv=None, error_score=nan,\n",
              "             estimator=SVC(C=1.0, break_ties=False, cache_size=200,\n",
              "                           class_weight=None, coef0=0.0,\n",
              "                           decision_function_shape='ovr', degree=3,\n",
              "                           gamma='scale', kernel='rbf', max_iter=-1,\n",
              "                           probability=True, random_state=None, shrinking=True,\n",
              "                           tol=0.001, verbose=False),\n",
              "             iid='deprecated', n_jobs=None,\n",
              "             param_grid=[{'C': [1, 10, 100, 1000], 'kernel': ['linear']},\n",
              "                         {'C': [1, 10, 100, 1000], 'gamma': [0.001, 0.0001],\n",
              "                          'kernel': ['rbf']}],\n",
              "             pre_dispatch='2*n_jobs', refit=True, return_train_score=False,\n",
              "             scoring=None, verbose=0)"
            ]
          },
          "metadata": {
            "tags": []
          },
          "execution_count": 12
        }
      ]
    },
    {
      "cell_type": "code",
      "metadata": {
        "colab": {
          "base_uri": "https://localhost:8080/"
        },
        "id": "uMRzdrhT7PVV",
        "outputId": "fcc923ec-7ee5-4a3e-982f-4bc156935ff4"
      },
      "source": [
        "y_pred = clf.predict(x_test)\r\n",
        "y_pred"
      ],
      "execution_count": null,
      "outputs": [
        {
          "output_type": "execute_result",
          "data": {
            "text/plain": [
              "array([1, 0, 1, 2, 2, 1, 0, 1, 1, 0, 1, 0, 1, 2, 2, 1, 2, 1, 0, 1, 2, 2,\n",
              "       2, 0, 0, 0, 1])"
            ]
          },
          "metadata": {
            "tags": []
          },
          "execution_count": 13
        }
      ]
    },
    {
      "cell_type": "code",
      "metadata": {
        "colab": {
          "base_uri": "https://localhost:8080/"
        },
        "id": "lAo-u1sk7_Fn",
        "outputId": "416159b6-0081-4d38-a1f0-6592c848365a"
      },
      "source": [
        "y_test"
      ],
      "execution_count": null,
      "outputs": [
        {
          "output_type": "execute_result",
          "data": {
            "text/plain": [
              "array([1, 0, 1, 2, 2, 1, 0, 1, 1, 0, 1, 0, 1, 2, 2, 1, 2, 1, 0, 1, 2, 2,\n",
              "       2, 0, 0, 0, 1])"
            ]
          },
          "metadata": {
            "tags": []
          },
          "execution_count": 14
        }
      ]
    },
    {
      "cell_type": "code",
      "metadata": {
        "id": "OQtALBbR8DHs"
      },
      "source": [
        "from sklearn.metrics import accuracy_score,confusion_matrix"
      ],
      "execution_count": null,
      "outputs": []
    },
    {
      "cell_type": "code",
      "metadata": {
        "colab": {
          "base_uri": "https://localhost:8080/"
        },
        "id": "ciBZT4_k8TR7",
        "outputId": "4109f2d9-d039-4502-becf-4e3ef9f6a31a"
      },
      "source": [
        "accuracy_score(y_pred,y_test)"
      ],
      "execution_count": null,
      "outputs": [
        {
          "output_type": "execute_result",
          "data": {
            "text/plain": [
              "1.0"
            ]
          },
          "metadata": {
            "tags": []
          },
          "execution_count": 16
        }
      ]
    },
    {
      "cell_type": "code",
      "metadata": {
        "colab": {
          "base_uri": "https://localhost:8080/"
        },
        "id": "MN4oiOQ28aOz",
        "outputId": "063c70c7-c59d-4c39-8f57-6a1b711beccb"
      },
      "source": [
        "confusion_matrix(y_pred,y_test)"
      ],
      "execution_count": null,
      "outputs": [
        {
          "output_type": "execute_result",
          "data": {
            "text/plain": [
              "array([[ 8,  0,  0],\n",
              "       [ 0, 11,  0],\n",
              "       [ 0,  0,  8]])"
            ]
          },
          "metadata": {
            "tags": []
          },
          "execution_count": 17
        }
      ]
    },
    {
      "cell_type": "code",
      "metadata": {
        "id": "udHR7-8R8lxz"
      },
      "source": [
        "import pickle\r\n",
        "pickle.dump(clf,open('img_model.p','wb'))"
      ],
      "execution_count": null,
      "outputs": []
    },
    {
      "cell_type": "code",
      "metadata": {
        "id": "lRlajouR9VJA"
      },
      "source": [
        "model = pickle.load(open('img_model.p','rb'))"
      ],
      "execution_count": null,
      "outputs": []
    },
    {
      "cell_type": "code",
      "metadata": {
        "colab": {
          "base_uri": "https://localhost:8080/",
          "height": 324
        },
        "id": "Vzu9PU0U90BQ",
        "outputId": "dfdacbf8-a7f9-48c0-a647-3714a7347eb6"
      },
      "source": [
        "#Testing an image - copying the path of image after uploading on goolgle colab\r\n",
        "flat_data=[]\r\n",
        "path = input('Enter your path')\r\n",
        "img = imread(path)\r\n",
        "img_resized = resize(img,(150,150,3))\r\n",
        "flat_data.append(img_resized.flatten())\r\n",
        "flat_data = np.array(flat_data)\r\n",
        "print(img.shape)\r\n",
        "plt.imshow(img_resized)\r\n",
        "y_out = model.predict(flat_data)\r\n",
        "y_out = CATEGORIES[y_out[0]]\r\n",
        "print(f'PREDICTED OUTPUT: {y_out}')"
      ],
      "execution_count": null,
      "outputs": [
        {
          "output_type": "stream",
          "text": [
            "Enter your path/content/istockphoto-185284489-612x612.jpg\n",
            "(563, 612, 3)\n",
            "PREDICTED OUTPUT: orange fruit\n"
          ],
          "name": "stdout"
        },
        {
          "output_type": "display_data",
          "data": {
            "image/png": "[encoded data removed]",
            "text/plain": [
              "<Figure size 432x288 with 1 Axes>"
            ]
          },
          "metadata": {
            "tags": [],
            "needs_background": "light"
          }
        }
      ]
    },
    {
      "cell_type": "code",
      "metadata": {
        "id": "V2d_m1Qc_grK"
      },
      "source": [
        ""
      ],
      "execution_count": null,
      "outputs": []
    },
    {
      "cell_type": "code",
      "metadata": {
        "id": "M59u8AT5E6BP"
      },
      "source": [
        ""
      ],
      "execution_count": null,
      "outputs": []
    }
  ]
}